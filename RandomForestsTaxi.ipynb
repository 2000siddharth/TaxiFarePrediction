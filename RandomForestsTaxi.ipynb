{
  "nbformat": 4,
  "nbformat_minor": 0,
  "metadata": {
    "colab": {
      "name": "RandomForestsTaxi.ipynb",
      "provenance": [],
      "authorship_tag": "ABX9TyN7BMe0/SzlgikbbETwixGF",
      "include_colab_link": true
    },
    "kernelspec": {
      "name": "python3",
      "display_name": "Python 3"
    }
  },
  "cells": [
    {
      "cell_type": "markdown",
      "metadata": {
        "id": "view-in-github",
        "colab_type": "text"
      },
      "source": [
        "<a href=\"https://colab.research.google.com/github/2000siddharth/TaxiFarePrediction/blob/master/RandomForestsTaxi.ipynb\" target=\"_parent\"><img src=\"https://colab.research.google.com/assets/colab-badge.svg\" alt=\"Open In Colab\"/></a>"
      ]
    },
    {
      "cell_type": "code",
      "metadata": {
        "id": "Qlxul0mXTW4q",
        "outputId": "ca322d58-0816-4013-cdb4-f58294c61275",
        "colab": {
          "base_uri": "https://localhost:8080/",
          "height": 70
        }
      },
      "source": [
        "import pandas as pd\n",
        "import numpy as np\n",
        "import matplotlib.pyplot as plt\n",
        "import seaborn as sns\n",
        "from sklearn.ensemble import RandomForestRegressor\n",
        "from sklearn.model_selection import train_test_split\n",
        "from sklearn.metrics import mean_absolute_error, mean_squared_error, r2_score"
      ],
      "execution_count": 1,
      "outputs": [
        {
          "output_type": "stream",
          "text": [
            "/usr/local/lib/python3.6/dist-packages/statsmodels/tools/_testing.py:19: FutureWarning: pandas.util.testing is deprecated. Use the functions in the public API at pandas.testing instead.\n",
            "  import pandas.util.testing as tm\n"
          ],
          "name": "stderr"
        }
      ]
    },
    {
      "cell_type": "code",
      "metadata": {
        "id": "xRVJy6xxWFdx",
        "outputId": "0b7c2a99-d116-4b5b-b85e-a6e171442cd5",
        "colab": {
          "base_uri": "https://localhost:8080/",
          "height": 316
        }
      },
      "source": [
        "df = pd.read_csv('train_file.csv', index_col=0)\n",
        "df.drop('color', inplace=True, axis=1)\n",
        "df.head()"
      ],
      "execution_count": 5,
      "outputs": [
        {
          "output_type": "execute_result",
          "data": {
            "text/html": [
              "<div>\n",
              "<style scoped>\n",
              "    .dataframe tbody tr th:only-of-type {\n",
              "        vertical-align: middle;\n",
              "    }\n",
              "\n",
              "    .dataframe tbody tr th {\n",
              "        vertical-align: top;\n",
              "    }\n",
              "\n",
              "    .dataframe thead th {\n",
              "        text-align: right;\n",
              "    }\n",
              "</style>\n",
              "<table border=\"1\" class=\"dataframe\">\n",
              "  <thead>\n",
              "    <tr style=\"text-align: right;\">\n",
              "      <th></th>\n",
              "      <th>fare_amount</th>\n",
              "      <th>pickup_longitude</th>\n",
              "      <th>pickup_latitude</th>\n",
              "      <th>dropoff_longitude</th>\n",
              "      <th>dropoff_latitude</th>\n",
              "      <th>passenger_count</th>\n",
              "      <th>year</th>\n",
              "      <th>month</th>\n",
              "      <th>day</th>\n",
              "      <th>hour</th>\n",
              "      <th>weekday</th>\n",
              "      <th>fare-bin</th>\n",
              "      <th>haversine</th>\n",
              "    </tr>\n",
              "  </thead>\n",
              "  <tbody>\n",
              "    <tr>\n",
              "      <th>0</th>\n",
              "      <td>4.5</td>\n",
              "      <td>-73.844311</td>\n",
              "      <td>40.721319</td>\n",
              "      <td>-73.841610</td>\n",
              "      <td>40.712278</td>\n",
              "      <td>1</td>\n",
              "      <td>2009</td>\n",
              "      <td>6</td>\n",
              "      <td>15</td>\n",
              "      <td>17</td>\n",
              "      <td>0</td>\n",
              "      <td>(0.0, 5.0]</td>\n",
              "      <td>1.031896</td>\n",
              "    </tr>\n",
              "    <tr>\n",
              "      <th>1</th>\n",
              "      <td>16.9</td>\n",
              "      <td>-74.016048</td>\n",
              "      <td>40.711303</td>\n",
              "      <td>-73.979268</td>\n",
              "      <td>40.782004</td>\n",
              "      <td>1</td>\n",
              "      <td>2010</td>\n",
              "      <td>1</td>\n",
              "      <td>5</td>\n",
              "      <td>16</td>\n",
              "      <td>1</td>\n",
              "      <td>(15.0, 20.0]</td>\n",
              "      <td>8.459418</td>\n",
              "    </tr>\n",
              "    <tr>\n",
              "      <th>2</th>\n",
              "      <td>5.7</td>\n",
              "      <td>-73.982738</td>\n",
              "      <td>40.761270</td>\n",
              "      <td>-73.991242</td>\n",
              "      <td>40.750562</td>\n",
              "      <td>2</td>\n",
              "      <td>2011</td>\n",
              "      <td>8</td>\n",
              "      <td>18</td>\n",
              "      <td>0</td>\n",
              "      <td>3</td>\n",
              "      <td>(5.0, 10.0]</td>\n",
              "      <td>1.391052</td>\n",
              "    </tr>\n",
              "    <tr>\n",
              "      <th>3</th>\n",
              "      <td>7.7</td>\n",
              "      <td>-73.987130</td>\n",
              "      <td>40.733143</td>\n",
              "      <td>-73.991567</td>\n",
              "      <td>40.758092</td>\n",
              "      <td>1</td>\n",
              "      <td>2012</td>\n",
              "      <td>4</td>\n",
              "      <td>21</td>\n",
              "      <td>4</td>\n",
              "      <td>5</td>\n",
              "      <td>(5.0, 10.0]</td>\n",
              "      <td>2.802346</td>\n",
              "    </tr>\n",
              "    <tr>\n",
              "      <th>4</th>\n",
              "      <td>5.3</td>\n",
              "      <td>-73.968095</td>\n",
              "      <td>40.768008</td>\n",
              "      <td>-73.956655</td>\n",
              "      <td>40.783762</td>\n",
              "      <td>1</td>\n",
              "      <td>2010</td>\n",
              "      <td>3</td>\n",
              "      <td>9</td>\n",
              "      <td>7</td>\n",
              "      <td>1</td>\n",
              "      <td>(5.0, 10.0]</td>\n",
              "      <td>2.001353</td>\n",
              "    </tr>\n",
              "  </tbody>\n",
              "</table>\n",
              "</div>"
            ],
            "text/plain": [
              "   fare_amount  pickup_longitude  ...      fare-bin  haversine\n",
              "0          4.5        -73.844311  ...    (0.0, 5.0]   1.031896\n",
              "1         16.9        -74.016048  ...  (15.0, 20.0]   8.459418\n",
              "2          5.7        -73.982738  ...   (5.0, 10.0]   1.391052\n",
              "3          7.7        -73.987130  ...   (5.0, 10.0]   2.802346\n",
              "4          5.3        -73.968095  ...   (5.0, 10.0]   2.001353\n",
              "\n",
              "[5 rows x 13 columns]"
            ]
          },
          "metadata": {
            "tags": []
          },
          "execution_count": 5
        }
      ]
    },
    {
      "cell_type": "code",
      "metadata": {
        "id": "Khh1hyaFWRKa"
      },
      "source": [
        "df['haversine_sq'] = np.power(df['haversine'], 2)\n",
        "df['log_year'] = np.log10(df['year'])\n",
        "df['log_dist'] = np.log10(df['haversine']+0.01)\n",
        "df['log_dist2'] = np.log2(df['haversine']+0.01)"
      ],
      "execution_count": 6,
      "outputs": []
    },
    {
      "cell_type": "code",
      "metadata": {
        "id": "sAzEy0pKWhZ2"
      },
      "source": [
        "# Absolute difference in latitude and longitude\n",
        "df['abs_lat_diff'] = (df['dropoff_latitude'] - df['pickup_latitude']).abs()\n",
        "df['abs_lon_diff'] = (df['dropoff_longitude'] - df['pickup_longitude']).abs()"
      ],
      "execution_count": 7,
      "outputs": []
    },
    {
      "cell_type": "markdown",
      "metadata": {
        "id": "czwL_pvYW013"
      },
      "source": [
        "### First let us start with a simple random forest model with default params and check it's performance.\n",
        "### We shall start with considering only a subset of features "
      ]
    },
    {
      "cell_type": "code",
      "metadata": {
        "id": "tore3iRAWn_5"
      },
      "source": [
        "# Split data\n",
        "X_train, X_test, y_train, y_test = train_test_split(df, np.array(df['fare_amount']), \n",
        "                                                      stratify = df['fare-bin'], test_size=0.3, \n",
        "                                                      random_state = 10)"
      ],
      "execution_count": 8,
      "outputs": []
    },
    {
      "cell_type": "code",
      "metadata": {
        "id": "W63iKBS3qdsL",
        "outputId": "868bf27d-884d-4607-fa05-ad63ecdbd831",
        "colab": {
          "base_uri": "https://localhost:8080/",
          "height": 222
        }
      },
      "source": [
        "# Create the random forest\n",
        "random_forest = RandomForestRegressor(n_estimators = 20, \n",
        "                                      max_features = None, oob_score = True, \n",
        "                                      bootstrap = True, verbose = 1, n_jobs = -1)\n",
        "\n",
        "# Train on data\n",
        "random_forest.fit(X_train[['haversine', 'abs_lat_diff', 'abs_lon_diff', 'passenger_count']], y_train)"
      ],
      "execution_count": 9,
      "outputs": [
        {
          "output_type": "stream",
          "text": [
            "[Parallel(n_jobs=-1)]: Using backend ThreadingBackend with 2 concurrent workers.\n",
            "[Parallel(n_jobs=-1)]: Done  20 out of  20 | elapsed:    5.4s finished\n",
            "/usr/local/lib/python3.6/dist-packages/sklearn/ensemble/_forest.py:815: UserWarning: Some inputs do not have OOB scores. This probably means too few trees were used to compute any reliable oob estimates.\n",
            "  warn(\"Some inputs do not have OOB scores. \"\n"
          ],
          "name": "stderr"
        },
        {
          "output_type": "execute_result",
          "data": {
            "text/plain": [
              "RandomForestRegressor(bootstrap=True, ccp_alpha=0.0, criterion='mse',\n",
              "                      max_depth=None, max_features=None, max_leaf_nodes=None,\n",
              "                      max_samples=None, min_impurity_decrease=0.0,\n",
              "                      min_impurity_split=None, min_samples_leaf=1,\n",
              "                      min_samples_split=2, min_weight_fraction_leaf=0.0,\n",
              "                      n_estimators=20, n_jobs=-1, oob_score=True,\n",
              "                      random_state=None, verbose=1, warm_start=False)"
            ]
          },
          "metadata": {
            "tags": []
          },
          "execution_count": 9
        }
      ]
    },
    {
      "cell_type": "code",
      "metadata": {
        "id": "RPgQD3KBqrth",
        "outputId": "a5186ea5-4fae-43db-c052-d4f933507ada",
        "colab": {
          "base_uri": "https://localhost:8080/",
          "height": 50
        }
      },
      "source": [
        "y_pred = random_forest.predict(X_test[['haversine', 'abs_lat_diff', 'abs_lon_diff', 'passenger_count']])"
      ],
      "execution_count": 10,
      "outputs": [
        {
          "output_type": "stream",
          "text": [
            "[Parallel(n_jobs=2)]: Using backend ThreadingBackend with 2 concurrent workers.\n",
            "[Parallel(n_jobs=2)]: Done  20 out of  20 | elapsed:    0.2s finished\n"
          ],
          "name": "stderr"
        }
      ]
    },
    {
      "cell_type": "code",
      "metadata": {
        "id": "TpfD0MiCsCNP"
      },
      "source": [
        "def scorer(y_true, y_pred, p):\n",
        "  print('Root-Mean-Squared Error is: ', np.sqrt(mean_squared_error(y_true, y_pred)))\n",
        "  print('Mean Absolute Error is: ', (mean_absolute_error(y_true, y_pred)))\n",
        "  print('Mean Standard Error is: ', np.sqrt(mean_squared_error(y_true, y_pred)/(len(y_true) - p - 1)))\n",
        "  R2 = r2_score(y_true, y_pred)\n",
        "  print('R2 error is : ', R2)\n",
        "  adj_r2 = (1 - (1-R2)*(len(y_true)-1)/(len(y_true)-p-1))\n",
        "  print('Adjusted R2 score is: ', adj_r2)"
      ],
      "execution_count": 14,
      "outputs": []
    },
    {
      "cell_type": "code",
      "metadata": {
        "id": "zCOyslA2sF0f",
        "outputId": "86b75b61-ccdb-4bf9-f9fb-279145da8b0f",
        "colab": {
          "base_uri": "https://localhost:8080/",
          "height": 101
        }
      },
      "source": [
        "scorer(y_test, y_pred, 4)"
      ],
      "execution_count": 15,
      "outputs": [
        {
          "output_type": "stream",
          "text": [
            "Root-Mean-Squared Error is:  5.173609712512935\n",
            "Mean Absolute Error is:  2.5035886112151275\n",
            "Mean Standard Error is:  0.030189538734906655\n",
            "R2 error is :  0.7121172704920854\n",
            "Adjusted R2 score is:  0.7120780600958027\n"
          ],
          "name": "stdout"
        }
      ]
    },
    {
      "cell_type": "code",
      "metadata": {
        "id": "oscXepoxsN8q",
        "outputId": "2295ce3e-cda8-44cc-d948-543267402bfd",
        "colab": {
          "base_uri": "https://localhost:8080/",
          "height": 134
        }
      },
      "source": [
        "y_pred_train = random_forest.predict(X_train[['haversine', 'abs_lat_diff', 'abs_lon_diff', 'passenger_count']])\n",
        "scorer(y_train, y_pred_train, 4)"
      ],
      "execution_count": 16,
      "outputs": [
        {
          "output_type": "stream",
          "text": [
            "[Parallel(n_jobs=2)]: Using backend ThreadingBackend with 2 concurrent workers.\n"
          ],
          "name": "stderr"
        },
        {
          "output_type": "stream",
          "text": [
            "Root-Mean-Squared Error is:  2.554734872444528\n",
            "Mean Absolute Error is:  1.024148279005136\n",
            "Mean Standard Error is:  0.009759003422294424\n",
            "R2 error is :  0.9307429431678391\n",
            "Adjusted R2 score is:  0.9307389007305514\n"
          ],
          "name": "stdout"
        },
        {
          "output_type": "stream",
          "text": [
            "[Parallel(n_jobs=2)]: Done  20 out of  20 | elapsed:    0.4s finished\n"
          ],
          "name": "stderr"
        }
      ]
    },
    {
      "cell_type": "code",
      "metadata": {
        "id": "zjdy3ME5ubj7",
        "outputId": "d59916a9-8bd9-4441-8548-bbce2ca39aef",
        "colab": {
          "base_uri": "https://localhost:8080/",
          "height": 296
        }
      },
      "source": [
        "sub = pd.DataFrame({'fare_amount': y_pred})\n",
        "sub.to_csv('sub_rf_simple.csv', index = False)\n",
        "\n",
        "sns.distplot(sub['fare_amount'])\n",
        "plt.title('Distribution of Random Forest Predicted Fare Amount');"
      ],
      "execution_count": 18,
      "outputs": [
        {
          "output_type": "display_data",
          "data": {
            "image/png": "[encoded data removed]",
            "text/plain": [
              "<Figure size 432x288 with 1 Axes>"
            ]
          },
          "metadata": {
            "tags": [],
            "needs_background": "light"
          }
        }
      ]
    },
    {
      "cell_type": "code",
      "metadata": {
        "id": "Uqu4Kgust5X5"
      },
      "source": [
        "# The huge difference in R2 scores clearly show that our model is overfitting on the train data, possible solutions might involve:\n",
        "# a. Tuning the hyperparameters\n",
        "# b. Adding more data\n",
        "# We shall do the former process of tuning our hyperparameters"
      ],
      "execution_count": 17,
      "outputs": []
    },
    {
      "cell_type": "code",
      "metadata": {
        "id": "fcrhebCzuXFA",
        "outputId": "d97bd964-8970-465d-e807-0c255c7568eb",
        "colab": {
          "base_uri": "https://localhost:8080/",
          "height": 118
        }
      },
      "source": [
        "# using all the features\n",
        "X_train.columns"
      ],
      "execution_count": 19,
      "outputs": [
        {
          "output_type": "execute_result",
          "data": {
            "text/plain": [
              "Index(['fare_amount', 'pickup_longitude', 'pickup_latitude',\n",
              "       'dropoff_longitude', 'dropoff_latitude', 'passenger_count', 'year',\n",
              "       'month', 'day', 'hour', 'weekday', 'fare-bin', 'haversine',\n",
              "       'haversine_sq', 'log_year', 'log_dist', 'log_dist2', 'abs_lat_diff',\n",
              "       'abs_lon_diff'],\n",
              "      dtype='object')"
            ]
          },
          "metadata": {
            "tags": []
          },
          "execution_count": 19
        }
      ]
    },
    {
      "cell_type": "code",
      "metadata": {
        "id": "lBBJerzqzcLW",
        "outputId": "dd86b852-fef1-4c9f-e3ff-a1069ed15a73",
        "colab": {
          "base_uri": "https://localhost:8080/",
          "height": 185
        }
      },
      "source": [
        "features = ['pickup_longitude', 'pickup_latitude',\n",
        "           'dropoff_longitude', 'dropoff_latitude', 'passenger_count', 'year',\n",
        "           'month', 'day', 'hour', 'weekday', 'haversine', 'abs_lat_diff', 'abs_lon_diff']\n",
        "\n",
        "# Create the random forest\n",
        "random_forest = RandomForestRegressor(n_estimators = 100, max_depth= 10,\n",
        "                                      max_features = None, oob_score = True, \n",
        "                                      bootstrap = True, verbose = 1, n_jobs = -1)\n",
        "\n",
        "# Train on data\n",
        "random_forest.fit(X_train[features], y_train)"
      ],
      "execution_count": 20,
      "outputs": [
        {
          "output_type": "stream",
          "text": [
            "[Parallel(n_jobs=-1)]: Using backend ThreadingBackend with 2 concurrent workers.\n",
            "[Parallel(n_jobs=-1)]: Done  46 tasks      | elapsed:   16.1s\n",
            "[Parallel(n_jobs=-1)]: Done 100 out of 100 | elapsed:   34.9s finished\n"
          ],
          "name": "stderr"
        },
        {
          "output_type": "execute_result",
          "data": {
            "text/plain": [
              "RandomForestRegressor(bootstrap=True, ccp_alpha=0.0, criterion='mse',\n",
              "                      max_depth=10, max_features=None, max_leaf_nodes=None,\n",
              "                      max_samples=None, min_impurity_decrease=0.0,\n",
              "                      min_impurity_split=None, min_samples_leaf=1,\n",
              "                      min_samples_split=2, min_weight_fraction_leaf=0.0,\n",
              "                      n_estimators=100, n_jobs=-1, oob_score=True,\n",
              "                      random_state=None, verbose=1, warm_start=False)"
            ]
          },
          "metadata": {
            "tags": []
          },
          "execution_count": 20
        }
      ]
    },
    {
      "cell_type": "code",
      "metadata": {
        "id": "_DgyZlQ30JCQ",
        "outputId": "1dec01e6-354b-43ea-a6c2-752b23ca636a",
        "colab": {
          "base_uri": "https://localhost:8080/",
          "height": 370
        }
      },
      "source": [
        "y_pred = random_forest.predict(X_test[features])\n",
        "y_pred_train = random_forest.predict(X_train[features])\n",
        "\n",
        "print('\\nResults on Training data: ')\n",
        "scorer(y_train, y_pred_train, len(features))\n",
        "print('\\n')\n",
        "print('Results on Test data: ')\n",
        "scorer(y_test, y_pred, len(features))"
      ],
      "execution_count": 22,
      "outputs": [
        {
          "output_type": "stream",
          "text": [
            "[Parallel(n_jobs=2)]: Using backend ThreadingBackend with 2 concurrent workers.\n",
            "[Parallel(n_jobs=2)]: Done  46 tasks      | elapsed:    0.1s\n",
            "[Parallel(n_jobs=2)]: Done 100 out of 100 | elapsed:    0.2s finished\n",
            "[Parallel(n_jobs=2)]: Using backend ThreadingBackend with 2 concurrent workers.\n",
            "[Parallel(n_jobs=2)]: Done  46 tasks      | elapsed:    0.2s\n"
          ],
          "name": "stderr"
        },
        {
          "output_type": "stream",
          "text": [
            "\n",
            "Results on Training data: \n",
            "Root-Mean-Squared Error is:  3.248047412037214\n",
            "Mean Absolute Error is:  1.7944018529127392\n",
            "Mean Standard Error is:  0.012408249394590785\n",
            "R2 error is :  0.888051809182628\n",
            "Adjusted R2 score is:  0.8880305700518415\n",
            "\n",
            "\n",
            "Results on Test data: \n",
            "Root-Mean-Squared Error is:  4.1513132276114995\n",
            "Mean Absolute Error is:  1.9540996892171048\n",
            "Mean Standard Error is:  0.024227849867694835\n",
            "R2 error is :  0.814647139913615\n",
            "Adjusted R2 score is:  0.8145650667101298\n"
          ],
          "name": "stdout"
        },
        {
          "output_type": "stream",
          "text": [
            "[Parallel(n_jobs=2)]: Done 100 out of 100 | elapsed:    0.4s finished\n"
          ],
          "name": "stderr"
        }
      ]
    },
    {
      "cell_type": "code",
      "metadata": {
        "id": "_xzFqOPJ00i7"
      },
      "source": [
        "# After training on all the features, we see that the overfitting has decreased considerably, \n",
        "# now let's plot the feature importances for this model"
      ],
      "execution_count": 23,
      "outputs": []
    },
    {
      "cell_type": "code",
      "metadata": {
        "id": "Idp5Z5LI3EQb",
        "outputId": "0b89f6f3-c871-4559-d07f-94cca5fbf073",
        "colab": {
          "base_uri": "https://localhost:8080/",
          "height": 462
        }
      },
      "source": [
        "feature_importances"
      ],
      "execution_count": 31,
      "outputs": [
        {
          "output_type": "execute_result",
          "data": {
            "text/html": [
              "<div>\n",
              "<style scoped>\n",
              "    .dataframe tbody tr th:only-of-type {\n",
              "        vertical-align: middle;\n",
              "    }\n",
              "\n",
              "    .dataframe tbody tr th {\n",
              "        vertical-align: top;\n",
              "    }\n",
              "\n",
              "    .dataframe thead th {\n",
              "        text-align: right;\n",
              "    }\n",
              "</style>\n",
              "<table border=\"1\" class=\"dataframe\">\n",
              "  <thead>\n",
              "    <tr style=\"text-align: right;\">\n",
              "      <th></th>\n",
              "      <th>importance</th>\n",
              "    </tr>\n",
              "    <tr>\n",
              "      <th>feature</th>\n",
              "      <th></th>\n",
              "    </tr>\n",
              "  </thead>\n",
              "  <tbody>\n",
              "    <tr>\n",
              "      <th>haversine</th>\n",
              "      <td>0.805864</td>\n",
              "    </tr>\n",
              "    <tr>\n",
              "      <th>abs_lon_diff</th>\n",
              "      <td>0.046655</td>\n",
              "    </tr>\n",
              "    <tr>\n",
              "      <th>dropoff_longitude</th>\n",
              "      <td>0.040879</td>\n",
              "    </tr>\n",
              "    <tr>\n",
              "      <th>year</th>\n",
              "      <td>0.024464</td>\n",
              "    </tr>\n",
              "    <tr>\n",
              "      <th>pickup_longitude</th>\n",
              "      <td>0.020141</td>\n",
              "    </tr>\n",
              "    <tr>\n",
              "      <th>dropoff_latitude</th>\n",
              "      <td>0.017583</td>\n",
              "    </tr>\n",
              "    <tr>\n",
              "      <th>abs_lat_diff</th>\n",
              "      <td>0.014436</td>\n",
              "    </tr>\n",
              "    <tr>\n",
              "      <th>pickup_latitude</th>\n",
              "      <td>0.010073</td>\n",
              "    </tr>\n",
              "    <tr>\n",
              "      <th>hour</th>\n",
              "      <td>0.007084</td>\n",
              "    </tr>\n",
              "    <tr>\n",
              "      <th>month</th>\n",
              "      <td>0.004836</td>\n",
              "    </tr>\n",
              "    <tr>\n",
              "      <th>day</th>\n",
              "      <td>0.003786</td>\n",
              "    </tr>\n",
              "    <tr>\n",
              "      <th>weekday</th>\n",
              "      <td>0.002555</td>\n",
              "    </tr>\n",
              "    <tr>\n",
              "      <th>passenger_count</th>\n",
              "      <td>0.001644</td>\n",
              "    </tr>\n",
              "  </tbody>\n",
              "</table>\n",
              "</div>"
            ],
            "text/plain": [
              "                   importance\n",
              "feature                      \n",
              "haversine            0.805864\n",
              "abs_lon_diff         0.046655\n",
              "dropoff_longitude    0.040879\n",
              "year                 0.024464\n",
              "pickup_longitude     0.020141\n",
              "dropoff_latitude     0.017583\n",
              "abs_lat_diff         0.014436\n",
              "pickup_latitude      0.010073\n",
              "hour                 0.007084\n",
              "month                0.004836\n",
              "day                  0.003786\n",
              "weekday              0.002555\n",
              "passenger_count      0.001644"
            ]
          },
          "metadata": {
            "tags": []
          },
          "execution_count": 31
        }
      ]
    },
    {
      "cell_type": "code",
      "metadata": {
        "id": "q5NmOjXo2bSm",
        "outputId": "12f246d9-ce2e-41a7-b6ad-2a9404e21f43",
        "colab": {
          "base_uri": "https://localhost:8080/",
          "height": 373
        }
      },
      "source": [
        "# Extract feature importances\n",
        "feature_importances = pd.DataFrame({'feature': features,\n",
        "                                  'importance': random_forest.feature_importances_}).\\\n",
        "                                   sort_values('importance', ascending = False).set_index('feature')\n",
        "\n",
        "#feature_importances.plot.bar(color = 'b', edgecolor = 'k', linewidth = 2);\n",
        "sns.barplot(x =feature_importances.index ,y='importance', data=feature_importances)\n",
        "plt.xticks(rotation=90)\n",
        "plt.title('Feature Importances');"
      ],
      "execution_count": 33,
      "outputs": [
        {
          "output_type": "display_data",
          "data": {
            "image/png": "[encoded data removed]",
            "text/plain": [
              "<Figure size 432x288 with 1 Axes>"
            ]
          },
          "metadata": {
            "tags": [],
            "needs_background": "light"
          }
        }
      ]
    },
    {
      "cell_type": "code",
      "metadata": {
        "id": "a7jIdC353Nof"
      },
      "source": [
        "# Now let's try some hyperparameter tuning. This will help us reduce overfitting to a higher extent.\n",
        "\n",
        "from sklearn.model_selection import RandomizedSearchCV\n",
        "\n",
        "# Hyperparameter grid\n",
        "param_grid = {\n",
        "    'n_estimators': [200, 250, 300, 400],\n",
        "    'max_depth': [15, 18, 21, 24],\n",
        "    'max_features': ['auto', 'sqrt'],\n",
        "    'min_samples_split': [2, 5, 10],\n",
        "    'bootstrap': [True]\n",
        "}\n",
        "\n",
        "# Estimator for use in random search\n",
        "estimator = RandomForestRegressor(random_state = 10)\n",
        "\n",
        "# Create the random search model\n",
        "rs = RandomizedSearchCV(estimator, param_grid, n_jobs = -1, \n",
        "                        scoring = 'neg_mean_absolute_error', cv = 3, \n",
        "                        n_iter = 100, verbose = 1, random_state=10)"
      ],
      "execution_count": 36,
      "outputs": []
    },
    {
      "cell_type": "code",
      "metadata": {
        "id": "8-eNGf536Vgt"
      },
      "source": [
        "rs.fit(X_train[features], y_train)"
      ],
      "execution_count": null,
      "outputs": []
    },
    {
      "cell_type": "code",
      "metadata": {
        "id": "3Zs8VxPn6nrT",
        "outputId": "5e2330a5-a13c-4c15-9a12-cfbb5c91aab2",
        "colab": {
          "base_uri": "https://localhost:8080/",
          "height": 202
        }
      },
      "source": [
        "model = RandomForestRegressor(bootstrap=True, criterion='mse',\n",
        "                      max_depth=20, max_features= 8, max_leaf_nodes=50,\n",
        "                      min_samples_leaf=5,\n",
        "                      min_samples_split=2, min_weight_fraction_leaf=0.0,\n",
        "                      n_estimators=300, n_jobs=-1, oob_score=True,\n",
        "                      random_state=None, verbose=1, warm_start=False)\n",
        "\n",
        "model.fit(X_train[features], y_train)"
      ],
      "execution_count": 42,
      "outputs": [
        {
          "output_type": "stream",
          "text": [
            "[Parallel(n_jobs=-1)]: Using backend ThreadingBackend with 2 concurrent workers.\n",
            "[Parallel(n_jobs=-1)]: Done  46 tasks      | elapsed:    7.8s\n",
            "[Parallel(n_jobs=-1)]: Done 196 tasks      | elapsed:   32.7s\n",
            "[Parallel(n_jobs=-1)]: Done 300 out of 300 | elapsed:   49.9s finished\n"
          ],
          "name": "stderr"
        },
        {
          "output_type": "execute_result",
          "data": {
            "text/plain": [
              "RandomForestRegressor(bootstrap=True, ccp_alpha=0.0, criterion='mse',\n",
              "                      max_depth=20, max_features=8, max_leaf_nodes=50,\n",
              "                      max_samples=None, min_impurity_decrease=0.0,\n",
              "                      min_impurity_split=None, min_samples_leaf=5,\n",
              "                      min_samples_split=2, min_weight_fraction_leaf=0.0,\n",
              "                      n_estimators=300, n_jobs=-1, oob_score=True,\n",
              "                      random_state=None, verbose=1, warm_start=False)"
            ]
          },
          "metadata": {
            "tags": []
          },
          "execution_count": 42
        }
      ]
    },
    {
      "cell_type": "code",
      "metadata": {
        "id": "w5KOCQ6o6vmN",
        "outputId": "78f100c0-1196-4d1b-97ca-e6177a75e401",
        "colab": {
          "base_uri": "https://localhost:8080/",
          "height": 403
        }
      },
      "source": [
        "y_pred = model.predict(X_test[features])\n",
        "y_pred_train = model.predict(X_train[features])\n",
        "\n",
        "print('\\nResults on Training data: ')\n",
        "scorer(y_train, y_pred_train, len(features))\n",
        "print('\\n')\n",
        "print('Results on Test data: ')\n",
        "scorer(y_test, y_pred, len(features))"
      ],
      "execution_count": 43,
      "outputs": [
        {
          "output_type": "stream",
          "text": [
            "[Parallel(n_jobs=2)]: Using backend ThreadingBackend with 2 concurrent workers.\n",
            "[Parallel(n_jobs=2)]: Done  46 tasks      | elapsed:    0.1s\n",
            "[Parallel(n_jobs=2)]: Done 196 tasks      | elapsed:    0.2s\n",
            "[Parallel(n_jobs=2)]: Done 300 out of 300 | elapsed:    0.3s finished\n",
            "[Parallel(n_jobs=2)]: Using backend ThreadingBackend with 2 concurrent workers.\n",
            "[Parallel(n_jobs=2)]: Done  46 tasks      | elapsed:    0.1s\n",
            "[Parallel(n_jobs=2)]: Done 196 tasks      | elapsed:    0.4s\n"
          ],
          "name": "stderr"
        },
        {
          "output_type": "stream",
          "text": [
            "\n",
            "Results on Training data: \n",
            "Root-Mean-Squared Error is:  4.048463479402662\n",
            "Mean Absolute Error is:  2.077576675635124\n",
            "Mean Standard Error is:  0.015466013313461273\n",
            "R2 error is :  0.8260786847107366\n",
            "Adjusted R2 score is:  0.8260456878616136\n",
            "\n",
            "\n",
            "Results on Test data: \n",
            "Root-Mean-Squared Error is:  4.228639261440388\n",
            "Mean Absolute Error is:  2.0847344885066974\n",
            "Mean Standard Error is:  0.024679139239455514\n",
            "R2 error is :  0.8076777369339161\n",
            "Adjusted R2 score is:  0.8075925777180075\n"
          ],
          "name": "stdout"
        },
        {
          "output_type": "stream",
          "text": [
            "[Parallel(n_jobs=2)]: Done 300 out of 300 | elapsed:    0.7s finished\n"
          ],
          "name": "stderr"
        }
      ]
    },
    {
      "cell_type": "code",
      "metadata": {
        "id": "0so60QVe6vjP"
      },
      "source": [
        "#This hyperparameter tuning process has lead to a significant drop in our overfitting."
      ],
      "execution_count": 44,
      "outputs": []
    },
    {
      "cell_type": "code",
      "metadata": {
        "id": "H_Dw6rGWCjxL",
        "outputId": "1ae78f9c-35f0-44da-8046-633778defd17",
        "colab": {
          "base_uri": "https://localhost:8080/",
          "height": 373
        }
      },
      "source": [
        "# Extract feature importances\n",
        "feature_importances = pd.DataFrame({'feature': features,\n",
        "                                  'importance': model.feature_importances_}).\\\n",
        "                                   sort_values('importance', ascending = False).set_index('feature')\n",
        "\n",
        "#feature_importances.plot.bar(color = 'b', edgecolor = 'k', linewidth = 2);\n",
        "sns.barplot(x =feature_importances.index ,y='importance', data=feature_importances)\n",
        "plt.xticks(rotation=90)\n",
        "plt.title('Feature Importances');"
      ],
      "execution_count": 45,
      "outputs": [
        {
          "output_type": "display_data",
          "data": {
            "image/png": "[encoded data removed]",
            "text/plain": [
              "<Figure size 432x288 with 1 Axes>"
            ]
          },
          "metadata": {
            "tags": [],
            "needs_background": "light"
          }
        }
      ]
    },
    {
      "cell_type": "markdown",
      "metadata": {
        "id": "nQWvTG8TDm8D"
      },
      "source": [
        "##### With this we have come to the end of our regression process using Random Forests for our dataset.\n",
        "##### As expected, the 'haversine' distance was the most important feature for our model built using the dataset we have."
      ]
    },
    {
      "cell_type": "markdown",
      "metadata": {
        "id": "lLx0zbSyEBGC"
      },
      "source": [
        "### Key Takeways :\n",
        "#### 1. On including all the features and after some hyperparam tuning we were able to minimise overfitting in our model.\n",
        "#### 2. The model gave the highest importance to the distance metric used - 'haversine' distance.\n",
        "#### 3. It also seems that the dropoff and pickup longitude are more important than the corresponding latitudes.\n",
        "#### 4. I think that with more data and some efficient feature engineering we can get a higher improvement in accuracy of regression.\n",
        "#### 5. Efficient methods like 'Adaboost' and 'XGBoost' can be used to get better performing and more accurate models"
      ]
    },
    {
      "cell_type": "code",
      "metadata": {
        "id": "oV3_Fr-_CrQf"
      },
      "source": [
        ""
      ],
      "execution_count": null,
      "outputs": []
    }
  ]
}